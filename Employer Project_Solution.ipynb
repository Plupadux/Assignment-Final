{
 "cells": [
  {
   "cell_type": "code",
   "execution_count": 1,
   "metadata": {},
   "outputs": [],
   "source": [
    "import pandas as pd\n",
    "import numpy as np\n",
    "import matplotlib.pyplot as plt\n",
    "%matplotlib inline\n",
    "import seaborn as sns\n",
    "from datetime import datetime"
   ]
  },
  {
   "cell_type": "code",
   "execution_count": 2,
   "metadata": {},
   "outputs": [
    {
     "data": {
      "text/html": [
       "<div>\n",
       "<style scoped>\n",
       "    .dataframe tbody tr th:only-of-type {\n",
       "        vertical-align: middle;\n",
       "    }\n",
       "\n",
       "    .dataframe tbody tr th {\n",
       "        vertical-align: top;\n",
       "    }\n",
       "\n",
       "    .dataframe thead th {\n",
       "        text-align: right;\n",
       "    }\n",
       "</style>\n",
       "<table border=\"1\" class=\"dataframe\">\n",
       "  <thead>\n",
       "    <tr style=\"text-align: right;\">\n",
       "      <th></th>\n",
       "      <th>Unnamed: 0</th>\n",
       "      <th>Quarter</th>\n",
       "      <th>Equivalent financial quarter</th>\n",
       "      <th>Site ID</th>\n",
       "      <th>Location</th>\n",
       "      <th>Date</th>\n",
       "      <th>Weather</th>\n",
       "      <th>Time</th>\n",
       "      <th>Period</th>\n",
       "      <th>Direction</th>\n",
       "      <th>Start hour</th>\n",
       "      <th>Start minute</th>\n",
       "      <th>Number of private cycles</th>\n",
       "      <th>Number of cycle hire bikes</th>\n",
       "    </tr>\n",
       "  </thead>\n",
       "  <tbody>\n",
       "    <tr>\n",
       "      <td>0</td>\n",
       "      <td>0</td>\n",
       "      <td>2019 Q3</td>\n",
       "      <td>2019-20 Q2</td>\n",
       "      <td>CENCY062</td>\n",
       "      <td>Charing Cross Road</td>\n",
       "      <td>09/07/19</td>\n",
       "      <td>Dry</td>\n",
       "      <td>0600 - 0615</td>\n",
       "      <td>Early Morning (06:00-07:00)</td>\n",
       "      <td>Northbound</td>\n",
       "      <td>6</td>\n",
       "      <td>0</td>\n",
       "      <td>4.0</td>\n",
       "      <td>0.0</td>\n",
       "    </tr>\n",
       "    <tr>\n",
       "      <td>1</td>\n",
       "      <td>1</td>\n",
       "      <td>2019 Q3</td>\n",
       "      <td>2019-20 Q2</td>\n",
       "      <td>CENCY062</td>\n",
       "      <td>Charing Cross Road</td>\n",
       "      <td>09/07/19</td>\n",
       "      <td>Dry</td>\n",
       "      <td>0615 - 0630</td>\n",
       "      <td>Early Morning (06:00-07:00)</td>\n",
       "      <td>Northbound</td>\n",
       "      <td>6</td>\n",
       "      <td>15</td>\n",
       "      <td>5.0</td>\n",
       "      <td>0.0</td>\n",
       "    </tr>\n",
       "    <tr>\n",
       "      <td>2</td>\n",
       "      <td>2</td>\n",
       "      <td>2019 Q3</td>\n",
       "      <td>2019-20 Q2</td>\n",
       "      <td>CENCY062</td>\n",
       "      <td>Charing Cross Road</td>\n",
       "      <td>09/07/19</td>\n",
       "      <td>Dry</td>\n",
       "      <td>0630 - 0645</td>\n",
       "      <td>Early Morning (06:00-07:00)</td>\n",
       "      <td>Northbound</td>\n",
       "      <td>6</td>\n",
       "      <td>30</td>\n",
       "      <td>11.0</td>\n",
       "      <td>1.0</td>\n",
       "    </tr>\n",
       "    <tr>\n",
       "      <td>3</td>\n",
       "      <td>3</td>\n",
       "      <td>2019 Q3</td>\n",
       "      <td>2019-20 Q2</td>\n",
       "      <td>CENCY062</td>\n",
       "      <td>Charing Cross Road</td>\n",
       "      <td>09/07/19</td>\n",
       "      <td>Dry</td>\n",
       "      <td>0645 - 0700</td>\n",
       "      <td>Early Morning (06:00-07:00)</td>\n",
       "      <td>Northbound</td>\n",
       "      <td>6</td>\n",
       "      <td>45</td>\n",
       "      <td>15.0</td>\n",
       "      <td>1.0</td>\n",
       "    </tr>\n",
       "    <tr>\n",
       "      <td>4</td>\n",
       "      <td>4</td>\n",
       "      <td>2019 Q3</td>\n",
       "      <td>2019-20 Q2</td>\n",
       "      <td>CENCY062</td>\n",
       "      <td>Charing Cross Road</td>\n",
       "      <td>09/07/19</td>\n",
       "      <td>Dry</td>\n",
       "      <td>0700 - 0715</td>\n",
       "      <td>AM peak (07:00-10:00)</td>\n",
       "      <td>Northbound</td>\n",
       "      <td>7</td>\n",
       "      <td>0</td>\n",
       "      <td>18.0</td>\n",
       "      <td>1.0</td>\n",
       "    </tr>\n",
       "  </tbody>\n",
       "</table>\n",
       "</div>"
      ],
      "text/plain": [
       "   Unnamed: 0 Quarter  Equivalent financial quarter   Site ID  \\\n",
       "0           0  2019 Q3                   2019-20 Q2  CENCY062   \n",
       "1           1  2019 Q3                   2019-20 Q2  CENCY062   \n",
       "2           2  2019 Q3                   2019-20 Q2  CENCY062   \n",
       "3           3  2019 Q3                   2019-20 Q2  CENCY062   \n",
       "4           4  2019 Q3                   2019-20 Q2  CENCY062   \n",
       "\n",
       "             Location     Date  Weather         Time  \\\n",
       "0  Charing Cross Road  09/07/19     Dry  0600 - 0615   \n",
       "1  Charing Cross Road  09/07/19     Dry  0615 - 0630   \n",
       "2  Charing Cross Road  09/07/19     Dry  0630 - 0645   \n",
       "3  Charing Cross Road  09/07/19     Dry  0645 - 0700   \n",
       "4  Charing Cross Road  09/07/19     Dry  0700 - 0715   \n",
       "\n",
       "                        Period   Direction  Start hour  Start minute  \\\n",
       "0  Early Morning (06:00-07:00)  Northbound           6             0   \n",
       "1  Early Morning (06:00-07:00)  Northbound           6            15   \n",
       "2  Early Morning (06:00-07:00)  Northbound           6            30   \n",
       "3  Early Morning (06:00-07:00)  Northbound           6            45   \n",
       "4        AM peak (07:00-10:00)  Northbound           7             0   \n",
       "\n",
       "   Number of private cycles  Number of cycle hire bikes  \n",
       "0                       4.0                         0.0  \n",
       "1                       5.0                         0.0  \n",
       "2                      11.0                         1.0  \n",
       "3                      15.0                         1.0  \n",
       "4                      18.0                         1.0  "
      ]
     },
     "execution_count": 2,
     "metadata": {},
     "output_type": "execute_result"
    }
   ],
   "source": [
    "#This data has been cleaned in the Date and Weather columns. \n",
    "\n",
    "ldn = pd.read_csv('/Users/rebeccaswedberg/londonv4.csv')\n",
    "\n",
    "ldn.head()"
   ]
  },
  {
   "cell_type": "code",
   "execution_count": 3,
   "metadata": {},
   "outputs": [
    {
     "name": "stdout",
     "output_type": "stream",
     "text": [
      "<class 'pandas.core.frame.DataFrame'>\n",
      "RangeIndex: 747751 entries, 0 to 747750\n",
      "Data columns (total 14 columns):\n",
      "Unnamed: 0                      747751 non-null int64\n",
      "Quarter                         747751 non-null object\n",
      "Equivalent financial quarter    747751 non-null object\n",
      "Site ID                         747751 non-null object\n",
      "Location                        747751 non-null object\n",
      "Date                            747751 non-null object\n",
      "Weather                         747751 non-null object\n",
      "Time                            747751 non-null object\n",
      "Period                          747751 non-null object\n",
      "Direction                       747751 non-null object\n",
      "Start hour                      747751 non-null int64\n",
      "Start minute                    747751 non-null int64\n",
      "Number of private cycles        747687 non-null float64\n",
      "Number of cycle hire bikes      747687 non-null float64\n",
      "dtypes: float64(2), int64(3), object(9)\n",
      "memory usage: 79.9+ MB\n"
     ]
    }
   ],
   "source": [
    "ldn.info()"
   ]
  },
  {
   "cell_type": "code",
   "execution_count": 4,
   "metadata": {},
   "outputs": [
    {
     "data": {
      "text/html": [
       "<div>\n",
       "<style scoped>\n",
       "    .dataframe tbody tr th:only-of-type {\n",
       "        vertical-align: middle;\n",
       "    }\n",
       "\n",
       "    .dataframe tbody tr th {\n",
       "        vertical-align: top;\n",
       "    }\n",
       "\n",
       "    .dataframe thead th {\n",
       "        text-align: right;\n",
       "    }\n",
       "</style>\n",
       "<table border=\"1\" class=\"dataframe\">\n",
       "  <thead>\n",
       "    <tr style=\"text-align: right;\">\n",
       "      <th></th>\n",
       "      <th>Unnamed: 0</th>\n",
       "      <th>Quarter</th>\n",
       "      <th>Equivalent financial quarter</th>\n",
       "      <th>Site ID</th>\n",
       "      <th>Location</th>\n",
       "      <th>Date</th>\n",
       "      <th>Weather</th>\n",
       "      <th>Time</th>\n",
       "      <th>Period</th>\n",
       "      <th>Direction</th>\n",
       "      <th>Start hour</th>\n",
       "      <th>Start minute</th>\n",
       "      <th>Number of private cycles</th>\n",
       "      <th>Number of cycle hire bikes</th>\n",
       "    </tr>\n",
       "  </thead>\n",
       "  <tbody>\n",
       "    <tr>\n",
       "      <td>0</td>\n",
       "      <td>0</td>\n",
       "      <td>2019 Q3</td>\n",
       "      <td>2019-20 Q2</td>\n",
       "      <td>CENCY062</td>\n",
       "      <td>Charing Cross Road</td>\n",
       "      <td>09/07/19</td>\n",
       "      <td>Dry</td>\n",
       "      <td>0600 - 0615</td>\n",
       "      <td>Early Morning (06:00-07:00)</td>\n",
       "      <td>Northbound</td>\n",
       "      <td>6</td>\n",
       "      <td>0</td>\n",
       "      <td>4.0</td>\n",
       "      <td>0.0</td>\n",
       "    </tr>\n",
       "    <tr>\n",
       "      <td>1</td>\n",
       "      <td>1</td>\n",
       "      <td>2019 Q3</td>\n",
       "      <td>2019-20 Q2</td>\n",
       "      <td>CENCY062</td>\n",
       "      <td>Charing Cross Road</td>\n",
       "      <td>09/07/19</td>\n",
       "      <td>Dry</td>\n",
       "      <td>0615 - 0630</td>\n",
       "      <td>Early Morning (06:00-07:00)</td>\n",
       "      <td>Northbound</td>\n",
       "      <td>6</td>\n",
       "      <td>15</td>\n",
       "      <td>5.0</td>\n",
       "      <td>0.0</td>\n",
       "    </tr>\n",
       "    <tr>\n",
       "      <td>2</td>\n",
       "      <td>2</td>\n",
       "      <td>2019 Q3</td>\n",
       "      <td>2019-20 Q2</td>\n",
       "      <td>CENCY062</td>\n",
       "      <td>Charing Cross Road</td>\n",
       "      <td>09/07/19</td>\n",
       "      <td>Dry</td>\n",
       "      <td>0630 - 0645</td>\n",
       "      <td>Early Morning (06:00-07:00)</td>\n",
       "      <td>Northbound</td>\n",
       "      <td>6</td>\n",
       "      <td>30</td>\n",
       "      <td>11.0</td>\n",
       "      <td>1.0</td>\n",
       "    </tr>\n",
       "    <tr>\n",
       "      <td>3</td>\n",
       "      <td>3</td>\n",
       "      <td>2019 Q3</td>\n",
       "      <td>2019-20 Q2</td>\n",
       "      <td>CENCY062</td>\n",
       "      <td>Charing Cross Road</td>\n",
       "      <td>09/07/19</td>\n",
       "      <td>Dry</td>\n",
       "      <td>0645 - 0700</td>\n",
       "      <td>Early Morning (06:00-07:00)</td>\n",
       "      <td>Northbound</td>\n",
       "      <td>6</td>\n",
       "      <td>45</td>\n",
       "      <td>15.0</td>\n",
       "      <td>1.0</td>\n",
       "    </tr>\n",
       "    <tr>\n",
       "      <td>4</td>\n",
       "      <td>4</td>\n",
       "      <td>2019 Q3</td>\n",
       "      <td>2019-20 Q2</td>\n",
       "      <td>CENCY062</td>\n",
       "      <td>Charing Cross Road</td>\n",
       "      <td>09/07/19</td>\n",
       "      <td>Dry</td>\n",
       "      <td>0700 - 0715</td>\n",
       "      <td>AM peak (07:00-10:00)</td>\n",
       "      <td>Northbound</td>\n",
       "      <td>7</td>\n",
       "      <td>0</td>\n",
       "      <td>18.0</td>\n",
       "      <td>1.0</td>\n",
       "    </tr>\n",
       "  </tbody>\n",
       "</table>\n",
       "</div>"
      ],
      "text/plain": [
       "   Unnamed: 0 Quarter  Equivalent financial quarter   Site ID  \\\n",
       "0           0  2019 Q3                   2019-20 Q2  CENCY062   \n",
       "1           1  2019 Q3                   2019-20 Q2  CENCY062   \n",
       "2           2  2019 Q3                   2019-20 Q2  CENCY062   \n",
       "3           3  2019 Q3                   2019-20 Q2  CENCY062   \n",
       "4           4  2019 Q3                   2019-20 Q2  CENCY062   \n",
       "\n",
       "             Location      Date Weather         Time  \\\n",
       "0  Charing Cross Road  09/07/19     Dry  0600 - 0615   \n",
       "1  Charing Cross Road  09/07/19     Dry  0615 - 0630   \n",
       "2  Charing Cross Road  09/07/19     Dry  0630 - 0645   \n",
       "3  Charing Cross Road  09/07/19     Dry  0645 - 0700   \n",
       "4  Charing Cross Road  09/07/19     Dry  0700 - 0715   \n",
       "\n",
       "                        Period   Direction  Start hour  Start minute  \\\n",
       "0  Early Morning (06:00-07:00)  Northbound           6             0   \n",
       "1  Early Morning (06:00-07:00)  Northbound           6            15   \n",
       "2  Early Morning (06:00-07:00)  Northbound           6            30   \n",
       "3  Early Morning (06:00-07:00)  Northbound           6            45   \n",
       "4        AM peak (07:00-10:00)  Northbound           7             0   \n",
       "\n",
       "   Number of private cycles  Number of cycle hire bikes  \n",
       "0                       4.0                         0.0  \n",
       "1                       5.0                         0.0  \n",
       "2                      11.0                         1.0  \n",
       "3                      15.0                         1.0  \n",
       "4                      18.0                         1.0  "
      ]
     },
     "execution_count": 4,
     "metadata": {},
     "output_type": "execute_result"
    }
   ],
   "source": [
    "ldn = ldn.rename({'Date ':'Date'},axis='columns')\n",
    "ldn.head()"
   ]
  },
  {
   "cell_type": "code",
   "execution_count": 5,
   "metadata": {},
   "outputs": [
    {
     "name": "stdout",
     "output_type": "stream",
     "text": [
      "<class 'pandas.core.frame.DataFrame'>\n",
      "RangeIndex: 747751 entries, 0 to 747750\n",
      "Data columns (total 14 columns):\n",
      "Unnamed: 0                      747751 non-null int64\n",
      "Quarter                         747751 non-null object\n",
      "Equivalent financial quarter    747751 non-null object\n",
      "Site ID                         747751 non-null object\n",
      "Location                        747751 non-null object\n",
      "Date                            747751 non-null datetime64[ns]\n",
      "Weather                         747751 non-null object\n",
      "Time                            747751 non-null object\n",
      "Period                          747751 non-null object\n",
      "Direction                       747751 non-null object\n",
      "Start hour                      747751 non-null int64\n",
      "Start minute                    747751 non-null int64\n",
      "Number of private cycles        747687 non-null float64\n",
      "Number of cycle hire bikes      747687 non-null float64\n",
      "dtypes: datetime64[ns](1), float64(2), int64(3), object(8)\n",
      "memory usage: 79.9+ MB\n"
     ]
    }
   ],
   "source": [
    "# Converting the Date to Date time \n",
    "ldn['Date'] = pd.to_datetime(ldn['Date'])\n",
    "ldn.info()"
   ]
  },
  {
   "cell_type": "code",
   "execution_count": 6,
   "metadata": {},
   "outputs": [
    {
     "data": {
      "text/html": [
       "<div>\n",
       "<style scoped>\n",
       "    .dataframe tbody tr th:only-of-type {\n",
       "        vertical-align: middle;\n",
       "    }\n",
       "\n",
       "    .dataframe tbody tr th {\n",
       "        vertical-align: top;\n",
       "    }\n",
       "\n",
       "    .dataframe thead th {\n",
       "        text-align: right;\n",
       "    }\n",
       "</style>\n",
       "<table border=\"1\" class=\"dataframe\">\n",
       "  <thead>\n",
       "    <tr style=\"text-align: right;\">\n",
       "      <th></th>\n",
       "      <th>Quarter</th>\n",
       "      <th>Equivalent financial quarter</th>\n",
       "      <th>Site ID</th>\n",
       "      <th>Location</th>\n",
       "      <th>Date</th>\n",
       "      <th>Weather</th>\n",
       "      <th>Time</th>\n",
       "      <th>Period</th>\n",
       "      <th>Direction</th>\n",
       "      <th>Start hour</th>\n",
       "      <th>Start minute</th>\n",
       "      <th>Number of private cycles</th>\n",
       "      <th>Number of cycle hire bikes</th>\n",
       "    </tr>\n",
       "  </thead>\n",
       "  <tbody>\n",
       "    <tr>\n",
       "      <td>0</td>\n",
       "      <td>2019 Q3</td>\n",
       "      <td>2019-20 Q2</td>\n",
       "      <td>CENCY062</td>\n",
       "      <td>Charing Cross Road</td>\n",
       "      <td>2019-09-07</td>\n",
       "      <td>Dry</td>\n",
       "      <td>0600 - 0615</td>\n",
       "      <td>Early Morning (06:00-07:00)</td>\n",
       "      <td>Northbound</td>\n",
       "      <td>6</td>\n",
       "      <td>0</td>\n",
       "      <td>4.0</td>\n",
       "      <td>0.0</td>\n",
       "    </tr>\n",
       "    <tr>\n",
       "      <td>1</td>\n",
       "      <td>2019 Q3</td>\n",
       "      <td>2019-20 Q2</td>\n",
       "      <td>CENCY062</td>\n",
       "      <td>Charing Cross Road</td>\n",
       "      <td>2019-09-07</td>\n",
       "      <td>Dry</td>\n",
       "      <td>0615 - 0630</td>\n",
       "      <td>Early Morning (06:00-07:00)</td>\n",
       "      <td>Northbound</td>\n",
       "      <td>6</td>\n",
       "      <td>15</td>\n",
       "      <td>5.0</td>\n",
       "      <td>0.0</td>\n",
       "    </tr>\n",
       "    <tr>\n",
       "      <td>2</td>\n",
       "      <td>2019 Q3</td>\n",
       "      <td>2019-20 Q2</td>\n",
       "      <td>CENCY062</td>\n",
       "      <td>Charing Cross Road</td>\n",
       "      <td>2019-09-07</td>\n",
       "      <td>Dry</td>\n",
       "      <td>0630 - 0645</td>\n",
       "      <td>Early Morning (06:00-07:00)</td>\n",
       "      <td>Northbound</td>\n",
       "      <td>6</td>\n",
       "      <td>30</td>\n",
       "      <td>11.0</td>\n",
       "      <td>1.0</td>\n",
       "    </tr>\n",
       "    <tr>\n",
       "      <td>3</td>\n",
       "      <td>2019 Q3</td>\n",
       "      <td>2019-20 Q2</td>\n",
       "      <td>CENCY062</td>\n",
       "      <td>Charing Cross Road</td>\n",
       "      <td>2019-09-07</td>\n",
       "      <td>Dry</td>\n",
       "      <td>0645 - 0700</td>\n",
       "      <td>Early Morning (06:00-07:00)</td>\n",
       "      <td>Northbound</td>\n",
       "      <td>6</td>\n",
       "      <td>45</td>\n",
       "      <td>15.0</td>\n",
       "      <td>1.0</td>\n",
       "    </tr>\n",
       "    <tr>\n",
       "      <td>4</td>\n",
       "      <td>2019 Q3</td>\n",
       "      <td>2019-20 Q2</td>\n",
       "      <td>CENCY062</td>\n",
       "      <td>Charing Cross Road</td>\n",
       "      <td>2019-09-07</td>\n",
       "      <td>Dry</td>\n",
       "      <td>0700 - 0715</td>\n",
       "      <td>AM peak (07:00-10:00)</td>\n",
       "      <td>Northbound</td>\n",
       "      <td>7</td>\n",
       "      <td>0</td>\n",
       "      <td>18.0</td>\n",
       "      <td>1.0</td>\n",
       "    </tr>\n",
       "  </tbody>\n",
       "</table>\n",
       "</div>"
      ],
      "text/plain": [
       "  Quarter  Equivalent financial quarter   Site ID            Location  \\\n",
       "0  2019 Q3                   2019-20 Q2  CENCY062  Charing Cross Road   \n",
       "1  2019 Q3                   2019-20 Q2  CENCY062  Charing Cross Road   \n",
       "2  2019 Q3                   2019-20 Q2  CENCY062  Charing Cross Road   \n",
       "3  2019 Q3                   2019-20 Q2  CENCY062  Charing Cross Road   \n",
       "4  2019 Q3                   2019-20 Q2  CENCY062  Charing Cross Road   \n",
       "\n",
       "        Date Weather         Time                       Period   Direction  \\\n",
       "0 2019-09-07     Dry  0600 - 0615  Early Morning (06:00-07:00)  Northbound   \n",
       "1 2019-09-07     Dry  0615 - 0630  Early Morning (06:00-07:00)  Northbound   \n",
       "2 2019-09-07     Dry  0630 - 0645  Early Morning (06:00-07:00)  Northbound   \n",
       "3 2019-09-07     Dry  0645 - 0700  Early Morning (06:00-07:00)  Northbound   \n",
       "4 2019-09-07     Dry  0700 - 0715        AM peak (07:00-10:00)  Northbound   \n",
       "\n",
       "   Start hour  Start minute  Number of private cycles  \\\n",
       "0           6             0                       4.0   \n",
       "1           6            15                       5.0   \n",
       "2           6            30                      11.0   \n",
       "3           6            45                      15.0   \n",
       "4           7             0                      18.0   \n",
       "\n",
       "   Number of cycle hire bikes  \n",
       "0                         0.0  \n",
       "1                         0.0  \n",
       "2                         1.0  \n",
       "3                         1.0  \n",
       "4                         1.0  "
      ]
     },
     "execution_count": 6,
     "metadata": {},
     "output_type": "execute_result"
    }
   ],
   "source": [
    "#Dropping the Unnamed column\n",
    "ldn = ldn.drop(['Unnamed: 0'], axis=1)\n",
    "\n",
    "ldn.head()"
   ]
  },
  {
   "cell_type": "code",
   "execution_count": 7,
   "metadata": {},
   "outputs": [
    {
     "data": {
      "text/plain": [
       "Quarter                          0\n",
       "Equivalent financial quarter     0\n",
       "Site ID                          0\n",
       "Location                         0\n",
       "Date                             0\n",
       "Weather                          0\n",
       "Time                             0\n",
       "Period                           0\n",
       "Direction                        0\n",
       "Start hour                       0\n",
       "Start minute                     0\n",
       "Number of private cycles        64\n",
       "Number of cycle hire bikes      64\n",
       "dtype: int64"
      ]
     },
     "execution_count": 7,
     "metadata": {},
     "output_type": "execute_result"
    }
   ],
   "source": [
    "ldn.isnull().sum()"
   ]
  },
  {
   "cell_type": "code",
   "execution_count": 8,
   "metadata": {},
   "outputs": [
    {
     "name": "stdout",
     "output_type": "stream",
     "text": [
      "7.0\n",
      "1.0\n"
     ]
    }
   ],
   "source": [
    "#Checking the median values in private and cycle hires \n",
    "print(ldn['Number of private cycles'].median())\n",
    "\n",
    "print(ldn['Number of cycle hire bikes'].median())"
   ]
  },
  {
   "cell_type": "code",
   "execution_count": 9,
   "metadata": {},
   "outputs": [],
   "source": [
    "#Replacing the null values in bikes with the median values \n",
    "\n",
    "# replacing missing values with Other for Weather\n",
    "ldn['Number of private cycles'].fillna(7, inplace=True)\n",
    "ldn['Number of cycle hire bikes'].fillna(1, inplace=True)"
   ]
  },
  {
   "cell_type": "code",
   "execution_count": 10,
   "metadata": {},
   "outputs": [
    {
     "data": {
      "text/plain": [
       "Quarter                         0\n",
       "Equivalent financial quarter    0\n",
       "Site ID                         0\n",
       "Location                        0\n",
       "Date                            0\n",
       "Weather                         0\n",
       "Time                            0\n",
       "Period                          0\n",
       "Direction                       0\n",
       "Start hour                      0\n",
       "Start minute                    0\n",
       "Number of private cycles        0\n",
       "Number of cycle hire bikes      0\n",
       "dtype: int64"
      ]
     },
     "execution_count": 10,
     "metadata": {},
     "output_type": "execute_result"
    }
   ],
   "source": [
    "ldn.isnull().sum()"
   ]
  },
  {
   "cell_type": "code",
   "execution_count": 11,
   "metadata": {},
   "outputs": [],
   "source": [
    "#Renaming the Cycle hire column\n",
    "ldn= ldn.rename({'Number of cycle hire bikes':'Number of hired bikes'}, axis = 'columns')"
   ]
  },
  {
   "cell_type": "code",
   "execution_count": 12,
   "metadata": {},
   "outputs": [
    {
     "data": {
      "text/html": [
       "<div>\n",
       "<style scoped>\n",
       "    .dataframe tbody tr th:only-of-type {\n",
       "        vertical-align: middle;\n",
       "    }\n",
       "\n",
       "    .dataframe tbody tr th {\n",
       "        vertical-align: top;\n",
       "    }\n",
       "\n",
       "    .dataframe thead th {\n",
       "        text-align: right;\n",
       "    }\n",
       "</style>\n",
       "<table border=\"1\" class=\"dataframe\">\n",
       "  <thead>\n",
       "    <tr style=\"text-align: right;\">\n",
       "      <th></th>\n",
       "      <th>Quarter</th>\n",
       "      <th>Equivalent financial quarter</th>\n",
       "      <th>Site ID</th>\n",
       "      <th>Location</th>\n",
       "      <th>Date</th>\n",
       "      <th>Weather</th>\n",
       "      <th>Time</th>\n",
       "      <th>Period</th>\n",
       "      <th>Direction</th>\n",
       "      <th>Start hour</th>\n",
       "      <th>Start minute</th>\n",
       "      <th>Number of private cycles</th>\n",
       "      <th>Number of hired bikes</th>\n",
       "    </tr>\n",
       "  </thead>\n",
       "  <tbody>\n",
       "    <tr>\n",
       "      <td>0</td>\n",
       "      <td>2019 Q3</td>\n",
       "      <td>2019-20 Q2</td>\n",
       "      <td>CENCY062</td>\n",
       "      <td>Charing Cross Road</td>\n",
       "      <td>2019-09-07</td>\n",
       "      <td>Dry</td>\n",
       "      <td>0600 - 0615</td>\n",
       "      <td>Early Morning (06:00-07:00)</td>\n",
       "      <td>Northbound</td>\n",
       "      <td>6</td>\n",
       "      <td>0</td>\n",
       "      <td>4.0</td>\n",
       "      <td>0.0</td>\n",
       "    </tr>\n",
       "    <tr>\n",
       "      <td>1</td>\n",
       "      <td>2019 Q3</td>\n",
       "      <td>2019-20 Q2</td>\n",
       "      <td>CENCY062</td>\n",
       "      <td>Charing Cross Road</td>\n",
       "      <td>2019-09-07</td>\n",
       "      <td>Dry</td>\n",
       "      <td>0615 - 0630</td>\n",
       "      <td>Early Morning (06:00-07:00)</td>\n",
       "      <td>Northbound</td>\n",
       "      <td>6</td>\n",
       "      <td>15</td>\n",
       "      <td>5.0</td>\n",
       "      <td>0.0</td>\n",
       "    </tr>\n",
       "    <tr>\n",
       "      <td>2</td>\n",
       "      <td>2019 Q3</td>\n",
       "      <td>2019-20 Q2</td>\n",
       "      <td>CENCY062</td>\n",
       "      <td>Charing Cross Road</td>\n",
       "      <td>2019-09-07</td>\n",
       "      <td>Dry</td>\n",
       "      <td>0630 - 0645</td>\n",
       "      <td>Early Morning (06:00-07:00)</td>\n",
       "      <td>Northbound</td>\n",
       "      <td>6</td>\n",
       "      <td>30</td>\n",
       "      <td>11.0</td>\n",
       "      <td>1.0</td>\n",
       "    </tr>\n",
       "    <tr>\n",
       "      <td>3</td>\n",
       "      <td>2019 Q3</td>\n",
       "      <td>2019-20 Q2</td>\n",
       "      <td>CENCY062</td>\n",
       "      <td>Charing Cross Road</td>\n",
       "      <td>2019-09-07</td>\n",
       "      <td>Dry</td>\n",
       "      <td>0645 - 0700</td>\n",
       "      <td>Early Morning (06:00-07:00)</td>\n",
       "      <td>Northbound</td>\n",
       "      <td>6</td>\n",
       "      <td>45</td>\n",
       "      <td>15.0</td>\n",
       "      <td>1.0</td>\n",
       "    </tr>\n",
       "    <tr>\n",
       "      <td>4</td>\n",
       "      <td>2019 Q3</td>\n",
       "      <td>2019-20 Q2</td>\n",
       "      <td>CENCY062</td>\n",
       "      <td>Charing Cross Road</td>\n",
       "      <td>2019-09-07</td>\n",
       "      <td>Dry</td>\n",
       "      <td>0700 - 0715</td>\n",
       "      <td>AM peak (07:00-10:00)</td>\n",
       "      <td>Northbound</td>\n",
       "      <td>7</td>\n",
       "      <td>0</td>\n",
       "      <td>18.0</td>\n",
       "      <td>1.0</td>\n",
       "    </tr>\n",
       "  </tbody>\n",
       "</table>\n",
       "</div>"
      ],
      "text/plain": [
       "  Quarter  Equivalent financial quarter   Site ID            Location  \\\n",
       "0  2019 Q3                   2019-20 Q2  CENCY062  Charing Cross Road   \n",
       "1  2019 Q3                   2019-20 Q2  CENCY062  Charing Cross Road   \n",
       "2  2019 Q3                   2019-20 Q2  CENCY062  Charing Cross Road   \n",
       "3  2019 Q3                   2019-20 Q2  CENCY062  Charing Cross Road   \n",
       "4  2019 Q3                   2019-20 Q2  CENCY062  Charing Cross Road   \n",
       "\n",
       "        Date Weather         Time                       Period   Direction  \\\n",
       "0 2019-09-07     Dry  0600 - 0615  Early Morning (06:00-07:00)  Northbound   \n",
       "1 2019-09-07     Dry  0615 - 0630  Early Morning (06:00-07:00)  Northbound   \n",
       "2 2019-09-07     Dry  0630 - 0645  Early Morning (06:00-07:00)  Northbound   \n",
       "3 2019-09-07     Dry  0645 - 0700  Early Morning (06:00-07:00)  Northbound   \n",
       "4 2019-09-07     Dry  0700 - 0715        AM peak (07:00-10:00)  Northbound   \n",
       "\n",
       "   Start hour  Start minute  Number of private cycles  Number of hired bikes  \n",
       "0           6             0                       4.0                    0.0  \n",
       "1           6            15                       5.0                    0.0  \n",
       "2           6            30                      11.0                    1.0  \n",
       "3           6            45                      15.0                    1.0  \n",
       "4           7             0                      18.0                    1.0  "
      ]
     },
     "execution_count": 12,
     "metadata": {},
     "output_type": "execute_result"
    }
   ],
   "source": [
    "ldn.head()"
   ]
  },
  {
   "cell_type": "markdown",
   "metadata": {},
   "source": [
    "# What time period does people cycle the most?"
   ]
  },
  {
   "cell_type": "code",
   "execution_count": 13,
   "metadata": {},
   "outputs": [
    {
     "data": {
      "text/plain": [
       "Text(0.5, 1.0, 'Hired bikes')"
      ]
     },
     "execution_count": 13,
     "metadata": {},
     "output_type": "execute_result"
    },
    {
     "data": {
      "image/png": "[encoded data removed]",
      "text/plain": [
       "<Figure size 432x288 with 1 Axes>"
      ]
     },
     "metadata": {
      "needs_background": "light"
     },
     "output_type": "display_data"
    }
   ],
   "source": [
    "#Creating pivot table for what time people hire a bike \n",
    "pd.pivot_table(ldn,index=ldn['Period'],values='Number of hired bikes',aggfunc=np.sum).plot(kind='bar')\n",
    "plt.legend(bbox_to_anchor=(1.04,1), loc=\"upper left\")\n",
    "plt.ylabel('Amount')\n",
    "plt.xlabel('Time period')\n",
    "plt.title('Hired bikes')"
   ]
  },
  {
   "cell_type": "code",
   "execution_count": 14,
   "metadata": {},
   "outputs": [
    {
     "data": {
      "text/plain": [
       "Text(0.5, 1.0, 'Hired bike per Quarter')"
      ]
     },
     "execution_count": 14,
     "metadata": {},
     "output_type": "execute_result"
    },
    {
     "data": {
      "image/png": "[encoded data removed]",
      "text/plain": [
       "<Figure size 432x288 with 1 Axes>"
      ]
     },
     "metadata": {
      "needs_background": "light"
     },
     "output_type": "display_data"
    }
   ],
   "source": [
    "#Creating pivot table for each quarter\n",
    "pd.pivot_table(ldn,index=ldn['Quarter '],values='Number of hired bikes',aggfunc=np.sum).plot(kind='bar')\n",
    "plt.legend(bbox_to_anchor=(1.04,1), loc=\"upper left\")\n",
    "plt.ylabel('Amount')\n",
    "plt.xlabel('Quarter')\n",
    "plt.title('Hired bike per Quarter')"
   ]
  },
  {
   "cell_type": "markdown",
   "metadata": {},
   "source": [
    "Bike patterns per month"
   ]
  },
  {
   "cell_type": "code",
   "execution_count": 15,
   "metadata": {},
   "outputs": [
    {
     "data": {
      "text/plain": [
       "Text(0.5, 1.0, 'Hired bikes per Month')"
      ]
     },
     "execution_count": 15,
     "metadata": {},
     "output_type": "execute_result"
    },
    {
     "data": {
      "image/png": "[encoded data removed]",
      "text/plain": [
       "<Figure size 432x288 with 1 Axes>"
      ]
     },
     "metadata": {
      "needs_background": "light"
     },
     "output_type": "display_data"
    }
   ],
   "source": [
    "pd.pivot_table(ldn,index=ldn['Date'].dt.month,columns=ldn['Date'].dt.year,\n",
    "               values='Number of hired bikes',aggfunc=np.sum).plot()\n",
    "plt.ylabel('Number of hired bikes')\n",
    "plt.xlabel('Month')\n",
    "plt.legend(bbox_to_anchor=(1.04,1), loc=\"upper left\")\n",
    "plt.title('Hired bikes per Month')"
   ]
  },
  {
   "cell_type": "code",
   "execution_count": 16,
   "metadata": {},
   "outputs": [
    {
     "data": {
      "text/plain": [
       "Text(0.5, 1.0, 'Private bike riders per Month')"
      ]
     },
     "execution_count": 16,
     "metadata": {},
     "output_type": "execute_result"
    },
    {
     "data": {
      "image/png": "[encoded data removed]",
      "text/plain": [
       "<Figure size 432x288 with 1 Axes>"
      ]
     },
     "metadata": {
      "needs_background": "light"
     },
     "output_type": "display_data"
    }
   ],
   "source": [
    "pd.pivot_table(ldn,index=ldn['Date'].dt.month,columns=ldn['Date'].dt.year,\n",
    "               values='Number of private cycles',aggfunc=np.sum).plot()\n",
    "plt.ylabel('Number of private bikes')\n",
    "plt.xlabel('Month')\n",
    "plt.legend(bbox_to_anchor=(1.04,1), loc=\"upper left\")\n",
    "plt.title('Private bike riders per Month')"
   ]
  },
  {
   "cell_type": "markdown",
   "metadata": {},
   "source": [
    " # What type of weather do people cycle the most?"
   ]
  },
  {
   "cell_type": "code",
   "execution_count": 17,
   "metadata": {},
   "outputs": [
    {
     "data": {
      "text/plain": [
       "Dry       609569\n",
       "Wet        75922\n",
       "Other      30950\n",
       "Fine       18846\n",
       "Rain        5408\n",
       "Cloudy      4394\n",
       "Sunny       2662\n",
       "Name: Weather, dtype: int64"
      ]
     },
     "execution_count": 17,
     "metadata": {},
     "output_type": "execute_result"
    }
   ],
   "source": [
    "ldn['Weather'].value_counts()"
   ]
  },
  {
   "cell_type": "code",
   "execution_count": 18,
   "metadata": {},
   "outputs": [
    {
     "data": {
      "text/plain": [
       "Text(0.5, 1.0, 'Hired Bikes per Weather Condition')"
      ]
     },
     "execution_count": 18,
     "metadata": {},
     "output_type": "execute_result"
    },
    {
     "data": {
      "image/png": "[encoded data removed]",
      "text/plain": [
       "<Figure size 432x288 with 1 Axes>"
      ]
     },
     "metadata": {
      "needs_background": "light"
     },
     "output_type": "display_data"
    }
   ],
   "source": [
    "pd.pivot_table(ldn,index=ldn['Weather'],\n",
    "               values='Number of hired bikes',aggfunc=np.sum).plot(kind='bar')\n",
    "plt.ylabel('Number of Hired Bikes')\n",
    "plt.xlabel('Weather Condition')\n",
    "plt.legend(bbox_to_anchor=(1.04,1), loc=\"upper left\")\n",
    "plt.title('Hired Bikes per Weather Condition')"
   ]
  },
  {
   "cell_type": "code",
   "execution_count": 19,
   "metadata": {},
   "outputs": [
    {
     "data": {
      "text/html": [
       "<div>\n",
       "<style scoped>\n",
       "    .dataframe tbody tr th:only-of-type {\n",
       "        vertical-align: middle;\n",
       "    }\n",
       "\n",
       "    .dataframe tbody tr th {\n",
       "        vertical-align: top;\n",
       "    }\n",
       "\n",
       "    .dataframe thead th {\n",
       "        text-align: right;\n",
       "    }\n",
       "</style>\n",
       "<table border=\"1\" class=\"dataframe\">\n",
       "  <thead>\n",
       "    <tr style=\"text-align: right;\">\n",
       "      <th></th>\n",
       "      <th>Quarter</th>\n",
       "      <th>Equivalent financial quarter</th>\n",
       "      <th>Site ID</th>\n",
       "      <th>Location</th>\n",
       "      <th>Date</th>\n",
       "      <th>Weather</th>\n",
       "      <th>Time</th>\n",
       "      <th>Period</th>\n",
       "      <th>Direction</th>\n",
       "      <th>Start hour</th>\n",
       "      <th>Start minute</th>\n",
       "      <th>Number of private cycles</th>\n",
       "      <th>Number of hired bikes</th>\n",
       "    </tr>\n",
       "  </thead>\n",
       "  <tbody>\n",
       "    <tr>\n",
       "      <td>0</td>\n",
       "      <td>2019 Q3</td>\n",
       "      <td>2019-20 Q2</td>\n",
       "      <td>CENCY062</td>\n",
       "      <td>Charing Cross Road</td>\n",
       "      <td>2019-09-07</td>\n",
       "      <td>Dry</td>\n",
       "      <td>0600 - 0615</td>\n",
       "      <td>Early Morning (06:00-07:00)</td>\n",
       "      <td>Northbound</td>\n",
       "      <td>6</td>\n",
       "      <td>0</td>\n",
       "      <td>4.0</td>\n",
       "      <td>0.0</td>\n",
       "    </tr>\n",
       "    <tr>\n",
       "      <td>1</td>\n",
       "      <td>2019 Q3</td>\n",
       "      <td>2019-20 Q2</td>\n",
       "      <td>CENCY062</td>\n",
       "      <td>Charing Cross Road</td>\n",
       "      <td>2019-09-07</td>\n",
       "      <td>Dry</td>\n",
       "      <td>0615 - 0630</td>\n",
       "      <td>Early Morning (06:00-07:00)</td>\n",
       "      <td>Northbound</td>\n",
       "      <td>6</td>\n",
       "      <td>15</td>\n",
       "      <td>5.0</td>\n",
       "      <td>0.0</td>\n",
       "    </tr>\n",
       "    <tr>\n",
       "      <td>2</td>\n",
       "      <td>2019 Q3</td>\n",
       "      <td>2019-20 Q2</td>\n",
       "      <td>CENCY062</td>\n",
       "      <td>Charing Cross Road</td>\n",
       "      <td>2019-09-07</td>\n",
       "      <td>Dry</td>\n",
       "      <td>0630 - 0645</td>\n",
       "      <td>Early Morning (06:00-07:00)</td>\n",
       "      <td>Northbound</td>\n",
       "      <td>6</td>\n",
       "      <td>30</td>\n",
       "      <td>11.0</td>\n",
       "      <td>1.0</td>\n",
       "    </tr>\n",
       "    <tr>\n",
       "      <td>3</td>\n",
       "      <td>2019 Q3</td>\n",
       "      <td>2019-20 Q2</td>\n",
       "      <td>CENCY062</td>\n",
       "      <td>Charing Cross Road</td>\n",
       "      <td>2019-09-07</td>\n",
       "      <td>Dry</td>\n",
       "      <td>0645 - 0700</td>\n",
       "      <td>Early Morning (06:00-07:00)</td>\n",
       "      <td>Northbound</td>\n",
       "      <td>6</td>\n",
       "      <td>45</td>\n",
       "      <td>15.0</td>\n",
       "      <td>1.0</td>\n",
       "    </tr>\n",
       "    <tr>\n",
       "      <td>4</td>\n",
       "      <td>2019 Q3</td>\n",
       "      <td>2019-20 Q2</td>\n",
       "      <td>CENCY062</td>\n",
       "      <td>Charing Cross Road</td>\n",
       "      <td>2019-09-07</td>\n",
       "      <td>Dry</td>\n",
       "      <td>0700 - 0715</td>\n",
       "      <td>AM peak (07:00-10:00)</td>\n",
       "      <td>Northbound</td>\n",
       "      <td>7</td>\n",
       "      <td>0</td>\n",
       "      <td>18.0</td>\n",
       "      <td>1.0</td>\n",
       "    </tr>\n",
       "    <tr>\n",
       "      <td>...</td>\n",
       "      <td>...</td>\n",
       "      <td>...</td>\n",
       "      <td>...</td>\n",
       "      <td>...</td>\n",
       "      <td>...</td>\n",
       "      <td>...</td>\n",
       "      <td>...</td>\n",
       "      <td>...</td>\n",
       "      <td>...</td>\n",
       "      <td>...</td>\n",
       "      <td>...</td>\n",
       "      <td>...</td>\n",
       "      <td>...</td>\n",
       "    </tr>\n",
       "    <tr>\n",
       "      <td>747746</td>\n",
       "      <td>2019 Q4</td>\n",
       "      <td>2019-20 Q3</td>\n",
       "      <td>CENCY098</td>\n",
       "      <td>Horseferry Road (east of Tufton Street)</td>\n",
       "      <td>2019-10-30</td>\n",
       "      <td>Dry</td>\n",
       "      <td>2045 - 2100</td>\n",
       "      <td>Evening (19:00-22:00)</td>\n",
       "      <td>Westbound</td>\n",
       "      <td>20</td>\n",
       "      <td>45</td>\n",
       "      <td>2.0</td>\n",
       "      <td>1.0</td>\n",
       "    </tr>\n",
       "    <tr>\n",
       "      <td>747747</td>\n",
       "      <td>2019 Q4</td>\n",
       "      <td>2019-20 Q3</td>\n",
       "      <td>CENCY098</td>\n",
       "      <td>Horseferry Road (east of Tufton Street)</td>\n",
       "      <td>2019-10-30</td>\n",
       "      <td>Dry</td>\n",
       "      <td>2100 - 2115</td>\n",
       "      <td>Evening (19:00-22:00)</td>\n",
       "      <td>Westbound</td>\n",
       "      <td>21</td>\n",
       "      <td>0</td>\n",
       "      <td>0.0</td>\n",
       "      <td>0.0</td>\n",
       "    </tr>\n",
       "    <tr>\n",
       "      <td>747748</td>\n",
       "      <td>2019 Q4</td>\n",
       "      <td>2019-20 Q3</td>\n",
       "      <td>CENCY098</td>\n",
       "      <td>Horseferry Road (east of Tufton Street)</td>\n",
       "      <td>2019-10-30</td>\n",
       "      <td>Dry</td>\n",
       "      <td>2115 - 2130</td>\n",
       "      <td>Evening (19:00-22:00)</td>\n",
       "      <td>Westbound</td>\n",
       "      <td>21</td>\n",
       "      <td>15</td>\n",
       "      <td>0.0</td>\n",
       "      <td>0.0</td>\n",
       "    </tr>\n",
       "    <tr>\n",
       "      <td>747749</td>\n",
       "      <td>2019 Q4</td>\n",
       "      <td>2019-20 Q3</td>\n",
       "      <td>CENCY098</td>\n",
       "      <td>Horseferry Road (east of Tufton Street)</td>\n",
       "      <td>2019-10-30</td>\n",
       "      <td>Dry</td>\n",
       "      <td>2130 - 2145</td>\n",
       "      <td>Evening (19:00-22:00)</td>\n",
       "      <td>Westbound</td>\n",
       "      <td>21</td>\n",
       "      <td>30</td>\n",
       "      <td>1.0</td>\n",
       "      <td>0.0</td>\n",
       "    </tr>\n",
       "    <tr>\n",
       "      <td>747750</td>\n",
       "      <td>2019 Q4</td>\n",
       "      <td>2019-20 Q3</td>\n",
       "      <td>CENCY098</td>\n",
       "      <td>Horseferry Road (east of Tufton Street)</td>\n",
       "      <td>2019-10-30</td>\n",
       "      <td>Dry</td>\n",
       "      <td>2145 - 2200</td>\n",
       "      <td>Evening (19:00-22:00)</td>\n",
       "      <td>Westbound</td>\n",
       "      <td>21</td>\n",
       "      <td>45</td>\n",
       "      <td>0.0</td>\n",
       "      <td>0.0</td>\n",
       "    </tr>\n",
       "  </tbody>\n",
       "</table>\n",
       "<p>609569 rows × 13 columns</p>\n",
       "</div>"
      ],
      "text/plain": [
       "       Quarter  Equivalent financial quarter   Site ID  \\\n",
       "0       2019 Q3                   2019-20 Q2  CENCY062   \n",
       "1       2019 Q3                   2019-20 Q2  CENCY062   \n",
       "2       2019 Q3                   2019-20 Q2  CENCY062   \n",
       "3       2019 Q3                   2019-20 Q2  CENCY062   \n",
       "4       2019 Q3                   2019-20 Q2  CENCY062   \n",
       "...         ...                          ...       ...   \n",
       "747746  2019 Q4                   2019-20 Q3  CENCY098   \n",
       "747747  2019 Q4                   2019-20 Q3  CENCY098   \n",
       "747748  2019 Q4                   2019-20 Q3  CENCY098   \n",
       "747749  2019 Q4                   2019-20 Q3  CENCY098   \n",
       "747750  2019 Q4                   2019-20 Q3  CENCY098   \n",
       "\n",
       "                                       Location       Date Weather  \\\n",
       "0                            Charing Cross Road 2019-09-07     Dry   \n",
       "1                            Charing Cross Road 2019-09-07     Dry   \n",
       "2                            Charing Cross Road 2019-09-07     Dry   \n",
       "3                            Charing Cross Road 2019-09-07     Dry   \n",
       "4                            Charing Cross Road 2019-09-07     Dry   \n",
       "...                                         ...        ...     ...   \n",
       "747746  Horseferry Road (east of Tufton Street) 2019-10-30     Dry   \n",
       "747747  Horseferry Road (east of Tufton Street) 2019-10-30     Dry   \n",
       "747748  Horseferry Road (east of Tufton Street) 2019-10-30     Dry   \n",
       "747749  Horseferry Road (east of Tufton Street) 2019-10-30     Dry   \n",
       "747750  Horseferry Road (east of Tufton Street) 2019-10-30     Dry   \n",
       "\n",
       "               Time                       Period   Direction  Start hour  \\\n",
       "0       0600 - 0615  Early Morning (06:00-07:00)  Northbound           6   \n",
       "1       0615 - 0630  Early Morning (06:00-07:00)  Northbound           6   \n",
       "2       0630 - 0645  Early Morning (06:00-07:00)  Northbound           6   \n",
       "3       0645 - 0700  Early Morning (06:00-07:00)  Northbound           6   \n",
       "4       0700 - 0715        AM peak (07:00-10:00)  Northbound           7   \n",
       "...             ...                          ...         ...         ...   \n",
       "747746  2045 - 2100        Evening (19:00-22:00)   Westbound          20   \n",
       "747747  2100 - 2115        Evening (19:00-22:00)   Westbound          21   \n",
       "747748  2115 - 2130        Evening (19:00-22:00)   Westbound          21   \n",
       "747749  2130 - 2145        Evening (19:00-22:00)   Westbound          21   \n",
       "747750  2145 - 2200        Evening (19:00-22:00)   Westbound          21   \n",
       "\n",
       "        Start minute  Number of private cycles  Number of hired bikes  \n",
       "0                  0                       4.0                    0.0  \n",
       "1                 15                       5.0                    0.0  \n",
       "2                 30                      11.0                    1.0  \n",
       "3                 45                      15.0                    1.0  \n",
       "4                  0                      18.0                    1.0  \n",
       "...              ...                       ...                    ...  \n",
       "747746            45                       2.0                    1.0  \n",
       "747747             0                       0.0                    0.0  \n",
       "747748            15                       0.0                    0.0  \n",
       "747749            30                       1.0                    0.0  \n",
       "747750            45                       0.0                    0.0  \n",
       "\n",
       "[609569 rows x 13 columns]"
      ]
     },
     "execution_count": 19,
     "metadata": {},
     "output_type": "execute_result"
    }
   ],
   "source": [
    "# Looking closer at the Dry weather data\n",
    "#Creating a subset of the date filtering on when the weather is Dry \n",
    "dry_weather = ldn[ldn['Weather'].apply(lambda x:\n",
    "                                     \"dry\" in x.lower())]\n",
    "\n",
    "dry_weather"
   ]
  },
  {
   "cell_type": "code",
   "execution_count": 20,
   "metadata": {},
   "outputs": [
    {
     "data": {
      "text/plain": [
       "[<matplotlib.lines.Line2D at 0x7ffab19bf9d0>]"
      ]
     },
     "execution_count": 20,
     "metadata": {},
     "output_type": "execute_result"
    },
    {
     "data": {
      "image/png": "[encoded data removed]",
      "text/plain": [
       "<Figure size 432x288 with 1 Axes>"
      ]
     },
     "metadata": {
      "needs_background": "light"
     },
     "output_type": "display_data"
    }
   ],
   "source": [
    "plt.plot('Date', 'Number of hired bikes',data=dry_weather)"
   ]
  },
  {
   "cell_type": "code",
   "execution_count": null,
   "metadata": {},
   "outputs": [],
   "source": []
  }
 ],
 "metadata": {
  "kernelspec": {
   "display_name": "Python 3",
   "language": "python",
   "name": "python3"
  },
  "language_info": {
   "codemirror_mode": {
    "name": "ipython",
    "version": 3
   },
   "file_extension": ".py",
   "mimetype": "text/x-python",
   "name": "python",
   "nbconvert_exporter": "python",
   "pygments_lexer": "ipython3",
   "version": "3.7.4"
  }
 },
 "nbformat": 4,
 "nbformat_minor": 2
}
